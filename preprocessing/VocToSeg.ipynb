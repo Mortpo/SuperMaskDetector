{
 "cells": [
  {
   "cell_type": "code",
   "execution_count": null,
   "metadata": {},
   "outputs": [],
   "source": [
    "import cv2\n",
    "import os\n",
    "import xml.etree.ElementTree as ET\n",
    "from matplotlib import pyplot as plt\n",
    "import numpy as np\n",
    "from joblib import Parallel, delayed\n",
    "import glob\n",
    "import Fonction as fct\n"
   ]
  },
  {
   "cell_type": "code",
   "execution_count": null,
   "metadata": {},
   "outputs": [],
   "source": [
    "pathToDataSet = os.path.join(\"/home/mortpo/ESIREM/IA/SuperMaskDetector\",\"DataSet\")\n",
    "pathToAnnotation = os.path.join(pathToDataSet,\"Kaggle\",\"annotations\")\n",
    "pathToImg = os.path.join(pathToDataSet,\"Kaggle\",\"images\")\n",
    "fichierAnnotation = os.listdir(pathToAnnotation)"
   ]
  },
  {
   "cell_type": "code",
   "execution_count": null,
   "metadata": {},
   "outputs": [],
   "source": [
    "def writeImage(annotation: str):\n",
    "    image_with_mask,image_without_mask,image_with_incorrect_mask = fct.readImagesFromAnnotation(annotation,pathToAnnotation,pathToImg)\n",
    "    if not image_with_mask is None or not image_without_mask is None or not image_with_incorrect_mask is None :\n",
    "        nomfichier = annotation.replace(\".xml\",\"\")\n",
    "        path_image_with_mask = os.path.join(pathToDataSet,\"VALIDATION\",\"with_mask\",nomfichier+\".jpg\")\n",
    "        path_image_without_mask = os.path.join(pathToDataSet,\"VALIDATION\",\"without_mask\",nomfichier+\".jpg\")\n",
    "        path_image_with_incorrect_mask= os.path.join(pathToDataSet,\"VALIDATION\",\"with_incorrect_mask\",nomfichier+\".jpg\")\n",
    "        cv2.imwrite(path_image_with_mask, image_with_mask)\n",
    "        cv2.imwrite(path_image_without_mask, image_without_mask)\n",
    "        cv2.imwrite(path_image_with_incorrect_mask, image_with_incorrect_mask)\n",
    "        return nomfichier\n",
    "\n",
    "    "
   ]
  },
  {
   "cell_type": "code",
   "execution_count": null,
   "metadata": {},
   "outputs": [],
   "source": [
    "Parallel(n_jobs=8)(delayed(writeImage)(fichierAnnotation[i]) for i in range(len(fichierAnnotation)))"
   ]
  }
 ],
 "metadata": {
  "interpreter": {
   "hash": "24bbd6f9d8d5bf7758940204837a24acf0a65ad83c922a3aac9a0e3a55019435"
  },
  "kernelspec": {
   "display_name": "Python 3.8.11 64-bit ('DeepL': conda)",
   "name": "python3"
  },
  "language_info": {
   "codemirror_mode": {
    "name": "ipython",
    "version": 3
   },
   "file_extension": ".py",
   "mimetype": "text/x-python",
   "name": "python",
   "nbconvert_exporter": "python",
   "pygments_lexer": "ipython3",
   "version": "3.8.11"
  }
 },
 "nbformat": 4,
 "nbformat_minor": 4
}
