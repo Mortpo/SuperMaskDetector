{
 "cells": [
  {
   "cell_type": "code",
   "execution_count": 210,
   "metadata": {},
   "outputs": [],
   "source": [
    "import cv2\n",
    "import os\n",
    "import xml.etree.ElementTree as ET\n",
    "from matplotlib import pyplot as plt\n",
    "import numpy as np\n",
    "from joblib import Parallel, delayed\n"
   ]
  },
  {
   "cell_type": "code",
   "execution_count": 211,
   "metadata": {},
   "outputs": [],
   "source": [
    "def readPascalVoc(xml_file: str):\n",
    "    tree = ET.parse(xml_file)\n",
    "    root = tree.getroot()\n",
    "\n",
    "    list_with_all_boxes = []\n",
    "\n",
    "    for boxes in root.iter('object'):\n",
    "\n",
    "        ymin, xmin, ymax, xmax, name = None, None, None, None, None\n",
    "        \n",
    "        \n",
    "        name = boxes.find('name').text\n",
    "        ymin = int(boxes.find(\"bndbox/ymin\").text)\n",
    "        xmin = int(boxes.find(\"bndbox/xmin\").text)\n",
    "        ymax = int(boxes.find(\"bndbox/ymax\").text)\n",
    "        xmax = int(boxes.find(\"bndbox/xmax\").text)\n",
    "\n",
    "        list_with_single_boxes = (name,[xmin, ymin, xmax, ymax])\n",
    "        list_with_all_boxes.append(list_with_single_boxes)\n",
    "\n",
    "    return list_with_all_boxes"
   ]
  },
  {
   "cell_type": "code",
   "execution_count": 212,
   "metadata": {},
   "outputs": [],
   "source": [
    "pathToDataSet = os.path.join(\"/home/mortpo/ESIREM/IA/SuperMaskDetector\",\"DataSet\")\n",
    "pathToAnnotation = os.path.join(pathToDataSet,\"Annotations\")\n",
    "pathToImg = os.path.join(pathToDataSet,\"Images\")\n",
    "fichierAnnotation = os.listdir(pathToAnnotation)"
   ]
  },
  {
   "cell_type": "code",
   "execution_count": 213,
   "metadata": {},
   "outputs": [],
   "source": [
    "def readImagesFromAnnotation(annotation: str):\n",
    "    fichierXML = os.path.join(pathToAnnotation,annotation)\n",
    "    boxes = readPascalVoc(fichierXML)\n",
    "    fichierImage = os.path.join(pathToImg,annotation.replace(\".xml\",\".jpg\"))\n",
    "    image = None\n",
    "    if os.path.exists(fichierImage):\n",
    "        image = cv2.imread(fichierImage)\n",
    "    else:\n",
    "        print(fichierImage,\"inexistant traitement passé\")\n",
    "        return (None,None,None)\n",
    "    sizeX,sizeY = image.shape[:2]\n",
    "    image_with_mask = np.zeros((sizeX,sizeY,1), np.uint8)\n",
    "    image_without_mask = np.zeros((sizeX,sizeY,1), np.uint8)\n",
    "    image_with_incorrect_mask = np.zeros((sizeX,sizeY,1), np.uint8)\n",
    "    for visage in boxes:\n",
    "        couleur = 255\n",
    "        point1 = (visage[1][0],visage[1][1])\n",
    "        point2 = (visage[1][2],visage[1][3])\n",
    "        if \"with_mask\" in visage[0]:\n",
    "            cv2.rectangle(image_with_mask, point1, point2, couleur,-1)\n",
    "\n",
    "        if \"without_mask\" in visage[0]:\n",
    "            cv2.rectangle(image_without_mask, point1, point2, couleur,-1)\n",
    "\n",
    "        if \"with_incorrect_mask\" in visage[0]:\n",
    "            cv2.rectangle(image_with_incorrect_mask, point1, point2, couleur,-1)\n",
    "    basseresolution = (426,240)\n",
    "    image_with_mask= cv2.resize(image_with_mask,basseresolution,interpolation = cv2.INTER_NEAREST)\n",
    "    image_without_mask =cv2.resize(image_without_mask,basseresolution,interpolation = cv2.INTER_NEAREST)\n",
    "    image_with_incorrect_mask =cv2.resize(image_with_incorrect_mask,basseresolution,interpolation = cv2.INTER_NEAREST)\n",
    "    return (image_with_mask,image_without_mask,image_with_incorrect_mask)\n",
    "    "
   ]
  },
  {
   "cell_type": "code",
   "execution_count": 214,
   "metadata": {},
   "outputs": [],
   "source": [
    "def writeImage(annotation: str):\n",
    "    image_with_mask,image_without_mask,image_with_incorrect_mask = readImagesFromAnnotation(annotation)\n",
    "    nomfichier = annotation.replace(\".xml\",\"\")\n",
    "    path_image_with_mask = os.path.join(pathToDataSet,\"TRAINING\",\"with_mask\",nomfichier+\".jpg\")\n",
    "    path_image_without_mask = os.path.join(pathToDataSet,\"TRAINING\",\"without_mask\",nomfichier+\".jpg\")\n",
    "    path_image_with_incorrect_mask= os.path.join(pathToDataSet,\"TRAINING\",\"with_incorrect_mask\",nomfichier+\".jpg\")\n",
    "    cv2.imwrite(path_image_with_mask, image_with_mask)\n",
    "    cv2.imwrite(path_image_without_mask, image_without_mask)\n",
    "    cv2.imwrite(path_image_with_incorrect_mask, image_with_incorrect_mask)\n",
    "    return nomfichier\n",
    "\n",
    "    "
   ]
  },
  {
   "cell_type": "code",
   "execution_count": 215,
   "metadata": {},
   "outputs": [],
   "source": [
    "def showAnnotation(annotation: str):\n",
    "    image_with_mask,image_without_mask,image_with_incorrect_mask = readImagesFromAnnotation(annotation)\n",
    "\n",
    "    plt.figure(figsize=(120, 80))\n",
    "    ax = plt.subplot(1, 4, 1)\n",
    "    plt.imshow(image_with_mask,cmap=plt.cm.gray)\n",
    "    ax = plt.subplot(1, 4, 2)\n",
    "    plt.imshow(image_without_mask,cmap=plt.cm.gray)\n",
    "    ax = plt.subplot(1, 4, 3)\n",
    "    plt.imshow(image_with_incorrect_mask,cmap=plt.cm.gray)\n",
    "\n",
    "    plt.show()"
   ]
  },
  {
   "cell_type": "code",
   "execution_count": 217,
   "metadata": {},
   "outputs": [
    {
     "data": {
      "text/plain": [
       "['8e874bd80319997ba26404bdae37b82e',\n",
       " '4abf0c479e92f16e31de4de0e1ff387e',\n",
       " '245a9bbcc35da8979740f9067c805a5b',\n",
       " '6f29558ac2de1c7c6f769722f9754997',\n",
       " '73e7beeebe6378cd8f6f2244e11b30dd',\n",
       " '9f9fc30acd75904a4b6fa5c37434cc16',\n",
       " '20d47c24835aa3cf467e90d9aec0a011',\n",
       " '30c4403d4c6e3ad905c483c95dc4183a',\n",
       " '7cd23b1fc84836e0e0d4dd3b453555fa',\n",
       " '61a0fb594843c6aa1fd379135c0e425d',\n",
       " '39eed0b45c59c2bacbc0413f38be5c0c',\n",
       " '2dadb438128920b0d471d8bfaeaebcc5',\n",
       " '77c355531024acf8b229db2600b0d9af',\n",
       " '9b1b583add26610d44e84e8a2857c915',\n",
       " '74ea414d53833621bb3b2cae6c64fa0b',\n",
       " '4fe5bb9eedae0752258c110fb5eea8ba',\n",
       " '7d98cb9f9ad283ee96d4c960178becc5',\n",
       " '86e70720fdf45dd0ceca2e02a3f82229',\n",
       " '251bfedd3d36f3cfb34a4d09c8666607',\n",
       " '5d3d10e4f03718ee97bf6f5cde9271ab',\n",
       " '58c3f47c8c0998511f94cd414fcc4d74',\n",
       " '3eeb217ecfa91cbfc1b7c79e72bb0aa5',\n",
       " '58cfcb991239c2a43d88a0d7db1a9cc0',\n",
       " '4f4893e7aa4e5d3491ad000b490503d0',\n",
       " '4be121c52c1bfcf42c13d81ed4ab8c66',\n",
       " '3b99eefb679d64902d940b82a53f8371',\n",
       " '7e02fc700086e38fe1fdf310f3841011',\n",
       " '4ec737e6a866b5a05f2335c9cfbdefd8',\n",
       " '6bd46ca216eaa8ea232a4c72ff407bb8',\n",
       " '3fdddb1d43eb12d039799f59355cdfe6',\n",
       " '00074ff93568dcf5cf54eaa4e2611f4b',\n",
       " '92ff4c2e3027db9793760c4da008a2ac',\n",
       " '8e2320c84c5737d9eec0df1d03d020d6',\n",
       " '4b2ba895db7124bbd05eacffe8200ce9',\n",
       " '16fef335cd1473872107acdeeda56587',\n",
       " '4c98681e9a83b214f257c39d03c81323',\n",
       " '99dd8a364921e8083f7b9463d93fc3a4',\n",
       " '2f9def14b6e4d00596cb40c70575b964',\n",
       " '27fc6abd5e7bffed43173987139e22aa',\n",
       " '2d63fa217b4fbcdd62f5d6ffde0416f5',\n",
       " '52ca27b8435c570b67cffc124d0a98a5',\n",
       " '9cb02e913be8a51c34f4cdfeaba605dc',\n",
       " '7a1b5f16157c874a0dec8364fd4c6790',\n",
       " '48bca3c85a020342e6e1d5a6dc830fcf',\n",
       " '10f89fe3b7c740552aff7bdf0a3bd60d',\n",
       " '5acb725a0182c76fb54f71fd7d7d98e9',\n",
       " '8d3e69d7d4a42a033dd818097a20e17e',\n",
       " '4abc256e925958f69799453b35161cb5',\n",
       " '4ad036506093be7c7a6e3038f61521f4',\n",
       " '8ba09b0aceda8830a166dcf4bb7bb970',\n",
       " '294f9a3163484eafa1df89f67c036052',\n",
       " '2a6ad5673e772c646740aee4cdc53a83',\n",
       " '8ce35924b89abb3b91e1ca7e9d38bf64',\n",
       " '3fbde0580dd6e22c5aefbbd81098cf04',\n",
       " '1e8b1d9d36a40ef2eb21b4c39a6d64e1',\n",
       " '8e344145cf0dd7f57f157517f5bc1919',\n",
       " '2e0c72393699090ab8896396b6b05539',\n",
       " '30d1ae2e4eacf5a5b8f8c295d015a2f0',\n",
       " '0f9a747706f7f2deadf090ad6a2755ec',\n",
       " '2a958716c1b855f3f3763ffb0c03dd97',\n",
       " '1e21fa541cc2f2bc7ec5831e44aabdc6',\n",
       " '161b46b30c25905c00680dc879e33f2d',\n",
       " '276c518fb8df53b4db6326df3e3bf932',\n",
       " '4a59a09ecb1d413a84d3c98a619b4ed9',\n",
       " '408b07a11d25cb7d26b1560e2903f6bb',\n",
       " '9932e27eea9219c2f5f31e97053b6dcb',\n",
       " '89f4998cf0c12932c0e455948c0e09fb',\n",
       " '1a80ac37a7648e1684f771da9ff8965e',\n",
       " '367e3d56b9b904dc0549771c49a7b18e',\n",
       " '532c8c5504aaf0f5dc489e4d8f8b8fbc',\n",
       " '2f1c36a6fb064d89af67dce4d8955ae9',\n",
       " '6ee8622ccee9c1c76f86b5db11a4797e',\n",
       " '23ccffd6317a9ca9972d79d7593394ce',\n",
       " '06b40c7b760ca4abf364c7079d371b95',\n",
       " '60baa03c036054cf224aa05884d1a827',\n",
       " '2ad6397094e073b27872a0536538639a',\n",
       " '5acb6ba258c56173569e1abfbcd96900',\n",
       " '333a58f4c0348bbbc81647e03b1c82a3',\n",
       " '6bf2dcaad0ec25f2fbc7a74c5e6492a0']"
      ]
     },
     "execution_count": 217,
     "metadata": {},
     "output_type": "execute_result"
    }
   ],
   "source": [
    "Parallel(n_jobs=8)(delayed(writeImage)(fichierAnnotation[i]) for i in range(len(fichierAnnotation)))"
   ]
  },
  {
   "cell_type": "code",
   "execution_count": 218,
   "metadata": {},
   "outputs": [
    {
     "data": {
      "text/plain": [
       "'fichannot = os.listdir(pathToAnnot)\\nfichimg = os.listdir(pathToImg)\\nannotnom = set()\\nimgnom = set()\\n[annotnom.add(x.replace(\".xml\",\"\")) for x in fichannot]\\n[imgnom.add(x.replace(\".jpg\",\"\")) for x in fichimg]\\nprint(annotnom - imgnom)'"
      ]
     },
     "execution_count": 218,
     "metadata": {},
     "output_type": "execute_result"
    }
   ],
   "source": [
    "\"\"\"fichannot = os.listdir(pathToAnnot)\n",
    "fichimg = os.listdir(pathToImg)\n",
    "annotnom = set()\n",
    "imgnom = set()\n",
    "[annotnom.add(x.replace(\".xml\",\"\")) for x in fichannot]\n",
    "[imgnom.add(x.replace(\".jpg\",\"\")) for x in fichimg]\n",
    "print(annotnom - imgnom)\"\"\""
   ]
  },
  {
   "cell_type": "code",
   "execution_count": null,
   "metadata": {},
   "outputs": [],
   "source": []
  }
 ],
 "metadata": {
  "interpreter": {
   "hash": "24bbd6f9d8d5bf7758940204837a24acf0a65ad83c922a3aac9a0e3a55019435"
  },
  "kernelspec": {
   "display_name": "Python 3.8.11 64-bit ('DeepL': conda)",
   "name": "python3"
  },
  "language_info": {
   "codemirror_mode": {
    "name": "ipython",
    "version": 3
   },
   "file_extension": ".py",
   "mimetype": "text/x-python",
   "name": "python",
   "nbconvert_exporter": "python",
   "pygments_lexer": "ipython3",
   "version": "3.8.11"
  }
 },
 "nbformat": 4,
 "nbformat_minor": 4
}
